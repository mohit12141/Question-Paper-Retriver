{
 "cells": [
  {
   "cell_type": "code",
   "execution_count": 1,
   "id": "91602dab",
   "metadata": {},
   "outputs": [],
   "source": [
    "import glob\n",
    "import os\n",
    "import re\n",
    "import shutil"
   ]
  },
  {
   "cell_type": "code",
   "execution_count": 17,
   "id": "7eeee9a8",
   "metadata": {},
   "outputs": [],
   "source": [
    "def findAndSave(name,directory,dest):\n",
    "    maindir = os.listdir(directory)\n",
    "    count = 0\n",
    "#     print(directory)\n",
    "    for folder in maindir:\n",
    "        num = re.findall(r'\\d+', folder)\n",
    "        num = int(num[0])\n",
    "        if num >= 2018:\n",
    "            dir2 = directory+'\\\\'+folder\n",
    "#             print(dir2)\n",
    "            subdir = os.listdir(dir2)\n",
    "            for folder1 in subdir:\n",
    "#                 print(folder1)\n",
    "                dir3 = dir2+\"\\\\\"+folder1\n",
    "                subdir2 = os.listdir(dir2+\"\\\\\"+folder1)\n",
    "                \n",
    "#                 print(dir3+\"\\\\\"+name)\n",
    "                for file1 in subdir2:\n",
    "                    if re.search(name,file1,re.IGNORECASE):\n",
    "                        count+=1\n",
    "                        print(dir3+\"\\\\\"+str(count)+file1)\n",
    "                        shutil.copy(dir3+\"\\\\\"+file1,os.path.join(dest, str(count) + file1))\n",
    "                        print(\"done\")\n",
    "                        \n"
   ]
  },
  {
   "cell_type": "code",
   "execution_count": 21,
   "id": "f56e87bd",
   "metadata": {},
   "outputs": [
    {
     "name": "stdout",
     "output_type": "stream",
     "text": [
      "E:\\COMPUTER SCIENCE AND ENGG. II, III & IV YEAR\\REGULAR\\SUMMER-2018\\Seventh Semester\\1compiler.pdf\n",
      "done\n",
      "E:\\COMPUTER SCIENCE AND ENGG. II, III & IV YEAR\\REGULAR\\SUMMER-2019\\SEVENTH SEMESTER\\2Compiler.pdf\n",
      "done\n",
      "E:\\COMPUTER SCIENCE AND ENGG. II, III & IV YEAR\\REGULAR\\WINTER-2018\\7th Semester\\3compiler.pdf\n",
      "done\n",
      "E:\\COMPUTER SCIENCE AND ENGG. II, III & IV YEAR\\REGULAR\\WINTER-2019\\SEVENTH SEMESTER\\4compiler.pdf\n",
      "done\n"
     ]
    }
   ],
   "source": [
    "findAndSave(\"compiler\",\"E:\\COMPUTER SCIENCE AND ENGG. II, III & IV YEAR\\REGULAR\",\"E:\\SEM6\\Question paper\\CD\")"
   ]
  },
  {
   "cell_type": "code",
   "execution_count": null,
   "id": "52130e52",
   "metadata": {},
   "outputs": [],
   "source": []
  }
 ],
 "metadata": {
  "kernelspec": {
   "display_name": "Python 3 (ipykernel)",
   "language": "python",
   "name": "python3"
  },
  "language_info": {
   "codemirror_mode": {
    "name": "ipython",
    "version": 3
   },
   "file_extension": ".py",
   "mimetype": "text/x-python",
   "name": "python",
   "nbconvert_exporter": "python",
   "pygments_lexer": "ipython3",
   "version": "3.9.7"
  }
 },
 "nbformat": 4,
 "nbformat_minor": 5
}
